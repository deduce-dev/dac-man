{
 "cells": [
  {
   "cell_type": "code",
   "execution_count": 1,
   "metadata": {},
   "outputs": [],
   "source": [
    "%load_ext autoreload\n",
    "%autoreload 2\n",
    "\n",
    "from dacman_csv import *"
   ]
  },
  {
   "cell_type": "code",
   "execution_count": 2,
   "metadata": {},
   "outputs": [],
   "source": [
    "from pathlib import Path\n",
    "\n",
    "PATH_DATA = Path('data/test1/')\n",
    "PATH_1 = PATH_DATA / '2019DacManBasicA.csv'\n",
    "PATH_2 = PATH_DATA / '2019DacManBasicB.csv'"
   ]
  },
  {
   "cell_type": "code",
   "execution_count": 3,
   "metadata": {},
   "outputs": [
    {
     "data": {
      "text/plain": [
       "<dacman_csv.TableDiffer at 0x7fe5a5ab6f98>"
      ]
     },
     "execution_count": 3,
     "metadata": {},
     "output_type": "execute_result"
    }
   ],
   "source": [
    "differ = TableDiffer(display_data=True)\n",
    "differ"
   ]
  },
  {
   "cell_type": "code",
   "execution_count": 4,
   "metadata": {},
   "outputs": [
    {
     "name": "stdout",
     "output_type": "stream",
     "text": [
      "displaying diff data:\n",
      "old:\n"
     ]
    },
    {
     "data": {
      "text/html": [
       "<div>\n",
       "<style scoped>\n",
       "    .dataframe tbody tr th:only-of-type {\n",
       "        vertical-align: middle;\n",
       "    }\n",
       "\n",
       "    .dataframe tbody tr th {\n",
       "        vertical-align: top;\n",
       "    }\n",
       "\n",
       "    .dataframe thead th {\n",
       "        text-align: right;\n",
       "    }\n",
       "</style>\n",
       "<table border=\"1\" class=\"dataframe\">\n",
       "  <thead>\n",
       "    <tr style=\"text-align: right;\">\n",
       "      <th></th>\n",
       "      <th>Site</th>\n",
       "      <th>Location</th>\n",
       "      <th>Date</th>\n",
       "      <th>Temperature</th>\n",
       "      <th>Pressure</th>\n",
       "      <th>Misc</th>\n",
       "    </tr>\n",
       "  </thead>\n",
       "  <tbody>\n",
       "    <tr>\n",
       "      <th>0</th>\n",
       "      <td>A</td>\n",
       "      <td>B</td>\n",
       "      <td>1/2/17</td>\n",
       "      <td>71</td>\n",
       "      <td>4</td>\n",
       "      <td>xkjdksfjsdlkkfjs</td>\n",
       "    </tr>\n",
       "    <tr>\n",
       "      <th>1</th>\n",
       "      <td>A</td>\n",
       "      <td>C</td>\n",
       "      <td>2/3/17</td>\n",
       "      <td>70</td>\n",
       "      <td>5</td>\n",
       "      <td>dsfdsfsdfdsf</td>\n",
       "    </tr>\n",
       "    <tr>\n",
       "      <th>2</th>\n",
       "      <td>B</td>\n",
       "      <td>DF</td>\n",
       "      <td>1/4/17</td>\n",
       "      <td>60</td>\n",
       "      <td>9</td>\n",
       "      <td>dfsdfwefefds</td>\n",
       "    </tr>\n",
       "    <tr>\n",
       "      <th>3</th>\n",
       "      <td>C</td>\n",
       "      <td>X</td>\n",
       "      <td>3/8/17</td>\n",
       "      <td>90</td>\n",
       "      <td>20</td>\n",
       "      <td>lijdfskljfs</td>\n",
       "    </tr>\n",
       "  </tbody>\n",
       "</table>\n",
       "</div>"
      ],
      "text/plain": [
       "  Site Location    Date  Temperature  Pressure              Misc\n",
       "0    A        B  1/2/17           71         4  xkjdksfjsdlkkfjs\n",
       "1    A        C  2/3/17           70         5      dsfdsfsdfdsf\n",
       "2    B       DF  1/4/17           60         9      dfsdfwefefds\n",
       "3    C        X  3/8/17           90        20       lijdfskljfs"
      ]
     },
     "metadata": {},
     "output_type": "display_data"
    },
    {
     "name": "stdout",
     "output_type": "stream",
     "text": [
      "new:\n"
     ]
    },
    {
     "data": {
      "text/html": [
       "<div>\n",
       "<style scoped>\n",
       "    .dataframe tbody tr th:only-of-type {\n",
       "        vertical-align: middle;\n",
       "    }\n",
       "\n",
       "    .dataframe tbody tr th {\n",
       "        vertical-align: top;\n",
       "    }\n",
       "\n",
       "    .dataframe thead th {\n",
       "        text-align: right;\n",
       "    }\n",
       "</style>\n",
       "<table border=\"1\" class=\"dataframe\">\n",
       "  <thead>\n",
       "    <tr style=\"text-align: right;\">\n",
       "      <th></th>\n",
       "      <th>Site</th>\n",
       "      <th>Location</th>\n",
       "      <th>Date</th>\n",
       "      <th>Temp</th>\n",
       "      <th>Pressure</th>\n",
       "      <th>Misc</th>\n",
       "    </tr>\n",
       "  </thead>\n",
       "  <tbody>\n",
       "    <tr>\n",
       "      <th>0</th>\n",
       "      <td>A</td>\n",
       "      <td>B</td>\n",
       "      <td>1/2/17</td>\n",
       "      <td>71</td>\n",
       "      <td>78</td>\n",
       "      <td>xkjdksfjsdlkkfjs</td>\n",
       "    </tr>\n",
       "    <tr>\n",
       "      <th>1</th>\n",
       "      <td>A</td>\n",
       "      <td>CD</td>\n",
       "      <td>2/3/17</td>\n",
       "      <td>70</td>\n",
       "      <td>5</td>\n",
       "      <td>dsfdsfsdfdsf</td>\n",
       "    </tr>\n",
       "    <tr>\n",
       "      <th>2</th>\n",
       "      <td>B</td>\n",
       "      <td>DF</td>\n",
       "      <td>1/4/17</td>\n",
       "      <td>60</td>\n",
       "      <td>9</td>\n",
       "      <td>dfsdfwefefds</td>\n",
       "    </tr>\n",
       "    <tr>\n",
       "      <th>3</th>\n",
       "      <td>C</td>\n",
       "      <td>X</td>\n",
       "      <td>3/8/17</td>\n",
       "      <td>90</td>\n",
       "      <td>20</td>\n",
       "      <td>lijdfskljfs</td>\n",
       "    </tr>\n",
       "  </tbody>\n",
       "</table>\n",
       "</div>"
      ],
      "text/plain": [
       "  Site Location    Date  Temp  Pressure              Misc\n",
       "0    A        B  1/2/17    71        78  xkjdksfjsdlkkfjs\n",
       "1    A       CD  2/3/17    70         5      dsfdsfsdfdsf\n",
       "2    B       DF  1/4/17    60         9      dfsdfwefefds\n",
       "3    C        X  3/8/17    90        20       lijdfskljfs"
      ]
     },
     "metadata": {},
     "output_type": "display_data"
    },
    {
     "data": {
      "text/plain": [
       "<dacman_csv.TableDiffBuilder at 0x7fe5a5a6bf28>"
      ]
     },
     "execution_count": 4,
     "metadata": {},
     "output_type": "execute_result"
    }
   ],
   "source": [
    "builder = differ.get_builder(PATH_1, PATH_2)\n",
    "builder"
   ]
  },
  {
   "cell_type": "code",
   "execution_count": 5,
   "metadata": {},
   "outputs": [
    {
     "data": {
      "text/plain": [
       "{'added': [],\n",
       " 'deleted': [],\n",
       " 'unchanged': [0, 1, 2, 3],\n",
       " 'changed': [],\n",
       " '_context': {}}"
      ]
     },
     "execution_count": 5,
     "metadata": {},
     "output_type": "execute_result"
    }
   ],
   "source": [
    "builder.index_diff.to_record()"
   ]
  },
  {
   "cell_type": "code",
   "execution_count": 6,
   "metadata": {},
   "outputs": [
    {
     "data": {
      "text/plain": [
       "{'added': ['Temp'],\n",
       " 'deleted': ['Temperature'],\n",
       " 'unchanged': ['Site', 'Location', 'Date', 'Pressure', 'Misc'],\n",
       " 'changed': [],\n",
       " '_context': {}}"
      ]
     },
     "execution_count": 6,
     "metadata": {},
     "output_type": "execute_result"
    }
   ],
   "source": [
    "builder.schema_diff.to_record()"
   ]
  },
  {
   "cell_type": "code",
   "execution_count": 7,
   "metadata": {},
   "outputs": [],
   "source": [
    "builder.build_records()"
   ]
  },
  {
   "cell_type": "code",
   "execution_count": 8,
   "metadata": {},
   "outputs": [
    {
     "data": {
      "text/html": [
       "<div>\n",
       "<style scoped>\n",
       "    .dataframe tbody tr th:only-of-type {\n",
       "        vertical-align: middle;\n",
       "    }\n",
       "\n",
       "    .dataframe tbody tr th {\n",
       "        vertical-align: top;\n",
       "    }\n",
       "\n",
       "    .dataframe thead th {\n",
       "        text-align: right;\n",
       "    }\n",
       "</style>\n",
       "<table border=\"1\" class=\"dataframe\">\n",
       "  <thead>\n",
       "    <tr style=\"text-align: right;\">\n",
       "      <th></th>\n",
       "      <th>Site</th>\n",
       "      <th>Location</th>\n",
       "      <th>Date</th>\n",
       "      <th>Pressure</th>\n",
       "      <th>Misc</th>\n",
       "    </tr>\n",
       "  </thead>\n",
       "  <tbody>\n",
       "    <tr>\n",
       "      <th>0</th>\n",
       "      <td>A</td>\n",
       "      <td>B</td>\n",
       "      <td>1/2/17</td>\n",
       "      <td>4</td>\n",
       "      <td>xkjdksfjsdlkkfjs</td>\n",
       "    </tr>\n",
       "    <tr>\n",
       "      <th>1</th>\n",
       "      <td>A</td>\n",
       "      <td>C</td>\n",
       "      <td>2/3/17</td>\n",
       "      <td>5</td>\n",
       "      <td>dsfdsfsdfdsf</td>\n",
       "    </tr>\n",
       "    <tr>\n",
       "      <th>2</th>\n",
       "      <td>B</td>\n",
       "      <td>DF</td>\n",
       "      <td>1/4/17</td>\n",
       "      <td>9</td>\n",
       "      <td>dfsdfwefefds</td>\n",
       "    </tr>\n",
       "    <tr>\n",
       "      <th>3</th>\n",
       "      <td>C</td>\n",
       "      <td>X</td>\n",
       "      <td>3/8/17</td>\n",
       "      <td>20</td>\n",
       "      <td>lijdfskljfs</td>\n",
       "    </tr>\n",
       "  </tbody>\n",
       "</table>\n",
       "</div>"
      ],
      "text/plain": [
       "  Site Location    Date  Pressure              Misc\n",
       "0    A        B  1/2/17         4  xkjdksfjsdlkkfjs\n",
       "1    A        C  2/3/17         5      dsfdsfsdfdsf\n",
       "2    B       DF  1/4/17         9      dfsdfwefefds\n",
       "3    C        X  3/8/17        20       lijdfskljfs"
      ]
     },
     "execution_count": 8,
     "metadata": {},
     "output_type": "execute_result"
    }
   ],
   "source": [
    "builder.records_builder.old"
   ]
  },
  {
   "cell_type": "code",
   "execution_count": 9,
   "metadata": {},
   "outputs": [
    {
     "data": {
      "text/html": [
       "<div>\n",
       "<style scoped>\n",
       "    .dataframe tbody tr th:only-of-type {\n",
       "        vertical-align: middle;\n",
       "    }\n",
       "\n",
       "    .dataframe tbody tr th {\n",
       "        vertical-align: top;\n",
       "    }\n",
       "\n",
       "    .dataframe thead th {\n",
       "        text-align: right;\n",
       "    }\n",
       "</style>\n",
       "<table border=\"1\" class=\"dataframe\">\n",
       "  <thead>\n",
       "    <tr style=\"text-align: right;\">\n",
       "      <th></th>\n",
       "      <th>Site</th>\n",
       "      <th>Location</th>\n",
       "      <th>Date</th>\n",
       "      <th>Pressure</th>\n",
       "      <th>Misc</th>\n",
       "    </tr>\n",
       "  </thead>\n",
       "  <tbody>\n",
       "    <tr>\n",
       "      <th>0</th>\n",
       "      <td>A</td>\n",
       "      <td>B</td>\n",
       "      <td>1/2/17</td>\n",
       "      <td>78</td>\n",
       "      <td>xkjdksfjsdlkkfjs</td>\n",
       "    </tr>\n",
       "    <tr>\n",
       "      <th>1</th>\n",
       "      <td>A</td>\n",
       "      <td>CD</td>\n",
       "      <td>2/3/17</td>\n",
       "      <td>5</td>\n",
       "      <td>dsfdsfsdfdsf</td>\n",
       "    </tr>\n",
       "    <tr>\n",
       "      <th>2</th>\n",
       "      <td>B</td>\n",
       "      <td>DF</td>\n",
       "      <td>1/4/17</td>\n",
       "      <td>9</td>\n",
       "      <td>dfsdfwefefds</td>\n",
       "    </tr>\n",
       "    <tr>\n",
       "      <th>3</th>\n",
       "      <td>C</td>\n",
       "      <td>X</td>\n",
       "      <td>3/8/17</td>\n",
       "      <td>20</td>\n",
       "      <td>lijdfskljfs</td>\n",
       "    </tr>\n",
       "  </tbody>\n",
       "</table>\n",
       "</div>"
      ],
      "text/plain": [
       "  Site Location    Date  Pressure              Misc\n",
       "0    A        B  1/2/17        78  xkjdksfjsdlkkfjs\n",
       "1    A       CD  2/3/17         5      dsfdsfsdfdsf\n",
       "2    B       DF  1/4/17         9      dfsdfwefefds\n",
       "3    C        X  3/8/17        20       lijdfskljfs"
      ]
     },
     "execution_count": 9,
     "metadata": {},
     "output_type": "execute_result"
    }
   ],
   "source": [
    "builder.records_builder.new"
   ]
  },
  {
   "cell_type": "code",
   "execution_count": 10,
   "metadata": {},
   "outputs": [
    {
     "data": {
      "text/html": [
       "<div>\n",
       "<style scoped>\n",
       "    .dataframe tbody tr th:only-of-type {\n",
       "        vertical-align: middle;\n",
       "    }\n",
       "\n",
       "    .dataframe tbody tr th {\n",
       "        vertical-align: top;\n",
       "    }\n",
       "\n",
       "    .dataframe thead th {\n",
       "        text-align: right;\n",
       "    }\n",
       "</style>\n",
       "<table border=\"1\" class=\"dataframe\">\n",
       "  <thead>\n",
       "    <tr style=\"text-align: right;\">\n",
       "      <th></th>\n",
       "      <th>row_id</th>\n",
       "      <th>column_id</th>\n",
       "      <th>old_value</th>\n",
       "      <th>new_value</th>\n",
       "    </tr>\n",
       "  </thead>\n",
       "  <tbody>\n",
       "    <tr>\n",
       "      <th>0</th>\n",
       "      <td>0</td>\n",
       "      <td>Pressure</td>\n",
       "      <td>4</td>\n",
       "      <td>78</td>\n",
       "    </tr>\n",
       "    <tr>\n",
       "      <th>1</th>\n",
       "      <td>1</td>\n",
       "      <td>Location</td>\n",
       "      <td>C</td>\n",
       "      <td>CD</td>\n",
       "    </tr>\n",
       "  </tbody>\n",
       "</table>\n",
       "</div>"
      ],
      "text/plain": [
       "   row_id column_id old_value new_value\n",
       "0       0  Pressure         4        78\n",
       "1       1  Location         C        CD"
      ]
     },
     "execution_count": 10,
     "metadata": {},
     "output_type": "execute_result"
    }
   ],
   "source": [
    "builder.records_builder.changed"
   ]
  },
  {
   "cell_type": "code",
   "execution_count": 11,
   "metadata": {},
   "outputs": [
    {
     "data": {
      "text/plain": [
       "'<TableRecordsDiff>'"
      ]
     },
     "metadata": {},
     "output_type": "display_data"
    },
    {
     "data": {
      "text/markdown": [
       "added"
      ]
     },
     "metadata": {},
     "output_type": "display_data"
    },
    {
     "data": {
      "text/html": [
       "<div>\n",
       "<style scoped>\n",
       "    .dataframe tbody tr th:only-of-type {\n",
       "        vertical-align: middle;\n",
       "    }\n",
       "\n",
       "    .dataframe tbody tr th {\n",
       "        vertical-align: top;\n",
       "    }\n",
       "\n",
       "    .dataframe thead th {\n",
       "        text-align: right;\n",
       "    }\n",
       "</style>\n",
       "<table border=\"1\" class=\"dataframe\">\n",
       "  <thead>\n",
       "    <tr style=\"text-align: right;\">\n",
       "      <th></th>\n",
       "      <th>Site</th>\n",
       "      <th>Location</th>\n",
       "      <th>Date</th>\n",
       "      <th>Pressure</th>\n",
       "      <th>Misc</th>\n",
       "    </tr>\n",
       "  </thead>\n",
       "  <tbody>\n",
       "  </tbody>\n",
       "</table>\n",
       "</div>"
      ],
      "text/plain": [
       "Empty DataFrame\n",
       "Columns: [Site, Location, Date, Pressure, Misc]\n",
       "Index: []"
      ]
     },
     "metadata": {},
     "output_type": "display_data"
    },
    {
     "data": {
      "text/markdown": [
       "deleted"
      ]
     },
     "metadata": {},
     "output_type": "display_data"
    },
    {
     "data": {
      "text/html": [
       "<div>\n",
       "<style scoped>\n",
       "    .dataframe tbody tr th:only-of-type {\n",
       "        vertical-align: middle;\n",
       "    }\n",
       "\n",
       "    .dataframe tbody tr th {\n",
       "        vertical-align: top;\n",
       "    }\n",
       "\n",
       "    .dataframe thead th {\n",
       "        text-align: right;\n",
       "    }\n",
       "</style>\n",
       "<table border=\"1\" class=\"dataframe\">\n",
       "  <thead>\n",
       "    <tr style=\"text-align: right;\">\n",
       "      <th></th>\n",
       "      <th>Site</th>\n",
       "      <th>Location</th>\n",
       "      <th>Date</th>\n",
       "      <th>Pressure</th>\n",
       "      <th>Misc</th>\n",
       "    </tr>\n",
       "  </thead>\n",
       "  <tbody>\n",
       "  </tbody>\n",
       "</table>\n",
       "</div>"
      ],
      "text/plain": [
       "Empty DataFrame\n",
       "Columns: [Site, Location, Date, Pressure, Misc]\n",
       "Index: []"
      ]
     },
     "metadata": {},
     "output_type": "display_data"
    },
    {
     "data": {
      "text/markdown": [
       "unchanged"
      ]
     },
     "metadata": {},
     "output_type": "display_data"
    },
    {
     "data": {
      "text/html": [
       "<div>\n",
       "<style scoped>\n",
       "    .dataframe tbody tr th:only-of-type {\n",
       "        vertical-align: middle;\n",
       "    }\n",
       "\n",
       "    .dataframe tbody tr th {\n",
       "        vertical-align: top;\n",
       "    }\n",
       "\n",
       "    .dataframe thead th {\n",
       "        text-align: right;\n",
       "    }\n",
       "</style>\n",
       "<table border=\"1\" class=\"dataframe\">\n",
       "  <thead>\n",
       "    <tr style=\"text-align: right;\">\n",
       "      <th></th>\n",
       "      <th>Site</th>\n",
       "      <th>Location</th>\n",
       "      <th>Date</th>\n",
       "      <th>Pressure</th>\n",
       "      <th>Misc</th>\n",
       "    </tr>\n",
       "  </thead>\n",
       "  <tbody>\n",
       "    <tr>\n",
       "      <th>2</th>\n",
       "      <td>B</td>\n",
       "      <td>DF</td>\n",
       "      <td>1/4/17</td>\n",
       "      <td>9</td>\n",
       "      <td>dfsdfwefefds</td>\n",
       "    </tr>\n",
       "    <tr>\n",
       "      <th>3</th>\n",
       "      <td>C</td>\n",
       "      <td>X</td>\n",
       "      <td>3/8/17</td>\n",
       "      <td>20</td>\n",
       "      <td>lijdfskljfs</td>\n",
       "    </tr>\n",
       "  </tbody>\n",
       "</table>\n",
       "</div>"
      ],
      "text/plain": [
       "  Site Location    Date  Pressure          Misc\n",
       "2    B       DF  1/4/17         9  dfsdfwefefds\n",
       "3    C        X  3/8/17        20   lijdfskljfs"
      ]
     },
     "metadata": {},
     "output_type": "display_data"
    },
    {
     "data": {
      "text/markdown": [
       "changed"
      ]
     },
     "metadata": {},
     "output_type": "display_data"
    },
    {
     "data": {
      "text/html": [
       "<div>\n",
       "<style scoped>\n",
       "    .dataframe tbody tr th:only-of-type {\n",
       "        vertical-align: middle;\n",
       "    }\n",
       "\n",
       "    .dataframe tbody tr th {\n",
       "        vertical-align: top;\n",
       "    }\n",
       "\n",
       "    .dataframe thead th {\n",
       "        text-align: right;\n",
       "    }\n",
       "</style>\n",
       "<table border=\"1\" class=\"dataframe\">\n",
       "  <thead>\n",
       "    <tr style=\"text-align: right;\">\n",
       "      <th></th>\n",
       "      <th>row_id</th>\n",
       "      <th>column_id</th>\n",
       "      <th>old_value</th>\n",
       "      <th>new_value</th>\n",
       "    </tr>\n",
       "  </thead>\n",
       "  <tbody>\n",
       "    <tr>\n",
       "      <th>0</th>\n",
       "      <td>0</td>\n",
       "      <td>Pressure</td>\n",
       "      <td>4</td>\n",
       "      <td>78</td>\n",
       "    </tr>\n",
       "    <tr>\n",
       "      <th>1</th>\n",
       "      <td>1</td>\n",
       "      <td>Location</td>\n",
       "      <td>C</td>\n",
       "      <td>CD</td>\n",
       "    </tr>\n",
       "  </tbody>\n",
       "</table>\n",
       "</div>"
      ],
      "text/plain": [
       "   row_id column_id old_value new_value\n",
       "0       0  Pressure         4        78\n",
       "1       1  Location         C        CD"
      ]
     },
     "metadata": {},
     "output_type": "display_data"
    }
   ],
   "source": [
    "builder.records_diff"
   ]
  },
  {
   "cell_type": "code",
   "execution_count": 12,
   "metadata": {},
   "outputs": [
    {
     "data": {
      "text/plain": [
       "{'schema': {'added': ['Temp'],\n",
       "  'deleted': ['Temperature'],\n",
       "  'unchanged': ['Site', 'Location', 'Date', 'Pressure', 'Misc'],\n",
       "  'changed': [],\n",
       "  '_context': {}},\n",
       " 'index': {'added': [],\n",
       "  'deleted': [],\n",
       "  'unchanged': [0, 1, 2, 3],\n",
       "  'changed': [],\n",
       "  '_context': {}},\n",
       " 'records': {'added': [],\n",
       "  'deleted': [],\n",
       "  'unchanged': [{'Site': 'B',\n",
       "    'Location': 'DF',\n",
       "    'Date': '1/4/17',\n",
       "    'Pressure': 9,\n",
       "    'Misc': 'dfsdfwefefds'},\n",
       "   {'Site': 'C',\n",
       "    'Location': 'X',\n",
       "    'Date': '3/8/17',\n",
       "    'Pressure': 20,\n",
       "    'Misc': 'lijdfskljfs'}],\n",
       "  'changed': [{'row_id': 0,\n",
       "    'column_id': 'Pressure',\n",
       "    'old_value': 4,\n",
       "    'new_value': 78},\n",
       "   {'row_id': 1,\n",
       "    'column_id': 'Location',\n",
       "    'old_value': 'C',\n",
       "    'new_value': 'CD'}],\n",
       "  '_context': {'comparison_fields': ['Site',\n",
       "    'Location',\n",
       "    'Date',\n",
       "    'Pressure',\n",
       "    'Misc']}},\n",
       " '_context': {'read_options': [{}, {}], 'index_columns': None}}"
      ]
     },
     "execution_count": 12,
     "metadata": {},
     "output_type": "execute_result"
    }
   ],
   "source": [
    "table_diff = builder.get_diff(context=differ.params)\n",
    "table_diff\n",
    "\n",
    "report = table_diff.to_record()\n",
    "report"
   ]
  },
  {
   "cell_type": "code",
   "execution_count": 13,
   "metadata": {},
   "outputs": [
    {
     "data": {
      "text/plain": [
       "{'comparison_fields': ['Site', 'Location', 'Date', 'Pressure', 'Misc']}"
      ]
     },
     "execution_count": 13,
     "metadata": {},
     "output_type": "execute_result"
    }
   ],
   "source": [
    "report['records']['_context']"
   ]
  },
  {
   "cell_type": "code",
   "execution_count": 14,
   "metadata": {},
   "outputs": [
    {
     "data": {
      "text/plain": [
       "{'read_options': [{}, {}], 'index_columns': None}"
      ]
     },
     "execution_count": 14,
     "metadata": {},
     "output_type": "execute_result"
    }
   ],
   "source": [
    "report['_context']"
   ]
  },
  {
   "cell_type": "markdown",
   "metadata": {},
   "source": [
    "It's important to emphasize that all this internal substructure is an implementation detail, mostly to group together certain functionality and keep the components small. It should be completely hidden to the differ's clients:"
   ]
  },
  {
   "cell_type": "code",
   "execution_count": 15,
   "metadata": {},
   "outputs": [
    {
     "data": {
      "text/plain": [
       "{'schema': {'added': ['Temp'],\n",
       "  'deleted': ['Temperature'],\n",
       "  'unchanged': ['Site', 'Location', 'Date', 'Pressure', 'Misc'],\n",
       "  'changed': [],\n",
       "  '_context': {}},\n",
       " 'index': {'added': [],\n",
       "  'deleted': [],\n",
       "  'unchanged': [0, 1, 2, 3],\n",
       "  'changed': [],\n",
       "  '_context': {}},\n",
       " 'records': {'added': [],\n",
       "  'deleted': [],\n",
       "  'unchanged': [{'Site': 'B',\n",
       "    'Location': 'DF',\n",
       "    'Date': '1/4/17',\n",
       "    'Pressure': 9,\n",
       "    'Misc': 'dfsdfwefefds'},\n",
       "   {'Site': 'C',\n",
       "    'Location': 'X',\n",
       "    'Date': '3/8/17',\n",
       "    'Pressure': 20,\n",
       "    'Misc': 'lijdfskljfs'}],\n",
       "  'changed': [{'row_id': 0,\n",
       "    'column_id': 'Pressure',\n",
       "    'old_value': 4,\n",
       "    'new_value': 78},\n",
       "   {'row_id': 1,\n",
       "    'column_id': 'Location',\n",
       "    'old_value': 'C',\n",
       "    'new_value': 'CD'}],\n",
       "  '_context': {'comparison_fields': ['Site',\n",
       "    'Location',\n",
       "    'Date',\n",
       "    'Pressure',\n",
       "    'Misc']}},\n",
       " '_context': {'old': 'data/test1/2019DacManBasicA.csv',\n",
       "  'new': 'data/test1/2019DacManBasicB.csv',\n",
       "  'diff_params': {'read_options': [{}, {}], 'index_columns': None}}}"
      ]
     },
     "execution_count": 15,
     "metadata": {},
     "output_type": "execute_result"
    }
   ],
   "source": [
    "diff = TableDiffer()(PATH_1, PATH_2)\n",
    "diff.to_record()"
   ]
  },
  {
   "cell_type": "markdown",
   "metadata": {},
   "source": [
    "This `changed` unit of the `records` component is preliminary. I'm working on a column-oriented differ (comparing data columns, i.e. pandas `Series`/Numpy `array`s), which should provide high performance and also allow an easy way to implement user-facing functionality such as setting per-column diff criteria and tolerance/thresholds values."
   ]
  },
  {
   "cell_type": "code",
   "execution_count": 16,
   "metadata": {},
   "outputs": [
    {
     "data": {
      "text/html": [
       "<div>\n",
       "<style scoped>\n",
       "    .dataframe tbody tr th:only-of-type {\n",
       "        vertical-align: middle;\n",
       "    }\n",
       "\n",
       "    .dataframe tbody tr th {\n",
       "        vertical-align: top;\n",
       "    }\n",
       "\n",
       "    .dataframe thead th {\n",
       "        text-align: right;\n",
       "    }\n",
       "</style>\n",
       "<table border=\"1\" class=\"dataframe\">\n",
       "  <thead>\n",
       "    <tr style=\"text-align: right;\">\n",
       "      <th></th>\n",
       "      <th>row_id</th>\n",
       "      <th>column_id</th>\n",
       "      <th>old_value</th>\n",
       "      <th>new_value</th>\n",
       "    </tr>\n",
       "  </thead>\n",
       "  <tbody>\n",
       "    <tr>\n",
       "      <th>0</th>\n",
       "      <td>0</td>\n",
       "      <td>Pressure</td>\n",
       "      <td>4</td>\n",
       "      <td>78</td>\n",
       "    </tr>\n",
       "    <tr>\n",
       "      <th>1</th>\n",
       "      <td>1</td>\n",
       "      <td>Location</td>\n",
       "      <td>C</td>\n",
       "      <td>CD</td>\n",
       "    </tr>\n",
       "  </tbody>\n",
       "</table>\n",
       "</div>"
      ],
      "text/plain": [
       "   row_id column_id old_value new_value\n",
       "0       0  Pressure         4        78\n",
       "1       1  Location         C        CD"
      ]
     },
     "execution_count": 16,
     "metadata": {},
     "output_type": "execute_result"
    }
   ],
   "source": [
    "diff.records.changed"
   ]
  },
  {
   "cell_type": "code",
   "execution_count": null,
   "metadata": {},
   "outputs": [],
   "source": []
  }
 ],
 "metadata": {
  "kernelspec": {
   "display_name": "dev-dacman",
   "language": "python",
   "name": "dev-dacman"
  },
  "language_info": {
   "codemirror_mode": {
    "name": "ipython",
    "version": 3
   },
   "file_extension": ".py",
   "mimetype": "text/x-python",
   "name": "python",
   "nbconvert_exporter": "python",
   "pygments_lexer": "ipython3",
   "version": "3.6.8"
  }
 },
 "nbformat": 4,
 "nbformat_minor": 2
}
